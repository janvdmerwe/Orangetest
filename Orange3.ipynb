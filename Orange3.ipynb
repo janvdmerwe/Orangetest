{
 "cells": [
  {
   "cell_type": "markdown",
   "id": "452722ce-5c1a-4ff7-a184-b1c28a8495c6",
   "metadata": {},
   "source": [
    "# 2025 IoT Connectivity Market Study \n",
    "\n",
    "## Introduction and structure of data\n",
    "This study is based on a data set published by Gartner in Q4 2024. The study includes 3 years of history and 9 years of forecast across 192 countries.\n",
    "All units are presented in thousands and revenues in millions of USD.\n",
    "\n",
    "Gartner has structured the data by \"Endpoint\", which represents a type of IoT device. Endpoints can be used in multiple different \"Use Cases\" in several different \"Sectors\". We will use this structure in our representation of the data. See the example below of the \"Commercila Drone\" Endpoint for an illustration of how the structure works.\n",
    "\n",
    "| Sector | Use Case | Endpoint |\n",
    "|--------|----------|----------|\n",
    "| Communications, Media & Services | Film TV & Journalism Drone Filming | Commercial Drone |\n",
    "| Government | Fire Services Monitoring | Commercial Drone |\n",
    "|| Outdoor Surveillance | Commercial Drone | \n",
    "|| Police Evidence Gathering | Commercial Drone |\n",
    "|| Road Toll and Traffic Management | Commercial Drone |\n",
    "| Insurance | Insurance Investigation | Commercial Drone |\n",
    "| Manufacturing & Natural Resources | Agricultural Equipment Tracking | Commercial Drone |\n",
    "|| Construction Monitoring | Commercial Drone |\n",
    "|| Livestock Management | Commercial Drone |\n",
    "|| Mine Operation | Commercial Drone |\n",
    "|| Precision Crop Farming | Commercial Drone |\n",
    "| Oil and Gas | Oil and Gas Extraction | Commercial Drone |\n",
    "|| Pipeline Monitoring | Commercial Drone |\n",
    "| Power and Utilities | Electricity (Smart Grid) | Commercial Drone |\n",
    "|| Electricity Grid-Scale Generation | Commercial Drone |\n",
    "|| Gas (Smart Grid) | Commercial Drone |\n",
    "|| Water (Smart Grid) | Commercial Drone |\n",
    "| Retail | Retail Fulfillment | Commercial Drone |\n",
    "| Smart Buildings | Building Structure Monitoring | Commercial Drone |\n",
    "|| Security Guard Equipment | Commercial Drone |\n",
    "| Transportation | Connected Ship Management | Commercial Drone |\n",
    "|| Logistics Warehouse and Retail | Commercial Drone |\n",
    "|| Port Management | Commercial Drone |\n",
    "|| Rail Infrastructure Management | Commercial Drone |\n"
   ]
  }
 ],
 "metadata": {
  "kernelspec": {
   "display_name": "Python 3 (ipykernel)",
   "language": "python",
   "name": "python3"
  },
  "language_info": {
   "codemirror_mode": {
    "name": "ipython",
    "version": 3
   },
   "file_extension": ".py",
   "mimetype": "text/x-python",
   "name": "python",
   "nbconvert_exporter": "python",
   "pygments_lexer": "ipython3",
   "version": "3.11.1"
  }
 },
 "nbformat": 4,
 "nbformat_minor": 5
}
